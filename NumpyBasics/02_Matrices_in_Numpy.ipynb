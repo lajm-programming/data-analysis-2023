{
 "cells": [
  {
   "cell_type": "markdown",
   "id": "0ae3f32a",
   "metadata": {},
   "source": [
    "<h1 style=\"margin-bottom: 25px;font-size:3.5rem;color:#4c76ce;text-align:center;\">\n",
    "    Introduction to NumPy</h1>\n",
    "    \n",
    "<h2 style=\"margin-bottom: 25px;font-size:2.5rem;text-align:center;\">\n",
    "    Part I: Numpy Arrays and Matrices</h2>\n",
    "    \n",
    "<img src=\"https://raw.githubusercontent.com/lajmcourses/Images/master/numpy.png\"\n",
    "     style=\"position:absolute;top:5px;left:25px;height:150px;width:auto;margin-bottom:25px;\">"
   ]
  },
  {
   "cell_type": "markdown",
   "id": "6ffeb2fe",
   "metadata": {},
   "source": [
    "# 1. Numpy Arrays\n",
    "\n",
    "!!! Please note all the elements of Numpy array must be of the same type !!!\n"
   ]
  },
  {
   "cell_type": "code",
   "execution_count": 3,
   "id": "75588e8c",
   "metadata": {},
   "outputs": [
    {
     "name": "stdout",
     "output_type": "stream",
     "text": [
      "\n",
      "Array: [1 2 3 4 5]\n",
      "Elements type: int64\n",
      "\n",
      "Array of zeros: [0. 0. 0. 0. 0.]\n",
      "Elements type: float64\n",
      "\n",
      "Array of ones: [1. 1. 1. 1. 1.]\n",
      "Elements type: float64\n",
      "\n",
      "Array of randoms: [0.11222815 0.23788924 0.88091604 0.85529313 0.20761074]\n",
      "Elements type: float64\n",
      "\n",
      "Array of standard normal variables: [ 0.79267416 -0.40277321  0.84912986 -0.18974659  1.59201039]\n",
      "Elements type: float64\n",
      "\n",
      "Array of equally distributed values: [ 0.   2.5  5.   7.5 10. ]\n",
      "Elements type: float64\n",
      "\n",
      "Array of elements in range: [0.  0.5 1.  1.5 2.  2.5 3.  3.5 4.  4.5]\n",
      "Elements type: float64\n"
     ]
    }
   ],
   "source": [
    "import numpy as np\n",
    "\n",
    "# Array\n",
    "arr1 = np.array([1, 2, 3, 4, 5])\n",
    "print(\"\\nArray:\", arr1)\n",
    "print(\"Elements type:\", arr1.dtype)\n",
    "\n",
    "# Array of Zeros\n",
    "arr2 = np.zeros(5)\n",
    "print(\"\\nArray of zeros:\", arr2)\n",
    "print(\"Elements type:\", arr2.dtype)\n",
    "\n",
    "# Array of Ones\n",
    "arr3 = np.ones(5)\n",
    "print(\"\\nArray of ones:\", arr3)\n",
    "print(\"Elements type:\", arr3.dtype)\n",
    "\n",
    "# Array of Random Numbers\n",
    "arr4 = np.random.random(5)\n",
    "print(\"\\nArray of randoms:\", arr4)\n",
    "print(\"Elements type:\", arr4.dtype)\n",
    "\n",
    "# Array of Normal Random Variables\n",
    "arr5 = np.random.randn(5)\n",
    "print(\"\\nArray of standard normal variables:\", arr5)\n",
    "print(\"Elements type:\", arr5.dtype)\n",
    "\n",
    "# Array of Equally Spaced Elements\n",
    "arr6 = np.linspace(0, 10, 5)\n",
    "print(\"\\nArray of equally distributed values:\", arr6)\n",
    "print(\"Elements type:\", arr6.dtype)\n",
    "\n",
    "# Array by Range\n",
    "arr7 = np.arange(0, 5, 0.5)\n",
    "print(\"\\nArray of elements in range:\", arr7)\n",
    "print(\"Elements type:\", arr7.dtype)\n"
   ]
  },
  {
   "cell_type": "markdown",
   "id": "e2de5798",
   "metadata": {},
   "source": [
    "## Exercise 1 (5-7 minutes):\n",
    "\n",
    "During our previous lessons we were generating the points for the plot using **for loops** and **Python lists**.\n",
    "NumPy allows a super easy solution using either **np.linspace** or **np.arange**\n",
    "\n",
    "a) Split the interval [-10, 10] into one hudred equal parts using **np.linspace** function\n",
    "\n",
    "b) Split the interval [-10, 10] into one hudred equal parts using **np.arange** function"
   ]
  },
  {
   "cell_type": "markdown",
   "id": "3e091c5e",
   "metadata": {},
   "source": [
    "## Solution to Exercise 1:"
   ]
  },
  {
   "cell_type": "code",
   "execution_count": null,
   "id": "d14aadbc",
   "metadata": {},
   "outputs": [],
   "source": []
  },
  {
   "cell_type": "markdown",
   "id": "eb77a5d8",
   "metadata": {},
   "source": [
    "## 1.1. Accessing Numpy Arrays Elements"
   ]
  },
  {
   "cell_type": "markdown",
   "id": "2bb04fc9",
   "metadata": {},
   "source": [
    "### Selecting Multiple Elements by Index"
   ]
  },
  {
   "cell_type": "code",
   "execution_count": 2,
   "id": "a13a312b",
   "metadata": {},
   "outputs": [
    {
     "name": "stdout",
     "output_type": "stream",
     "text": [
      "Array: [10 12  1  7 22 14 11]\n",
      "arr[0] = 10\n",
      "arr[3] = 7\n"
     ]
    },
    {
     "data": {
      "text/plain": [
       "array([10,  1, 22, 11])"
      ]
     },
     "execution_count": 2,
     "metadata": {},
     "output_type": "execute_result"
    }
   ],
   "source": [
    "import numpy as np\n",
    "\n",
    "# Array\n",
    "arr = np.array([10, 12, 1, 7, 22, 14, 11])\n",
    "print(\"Array:\", arr)\n",
    "\n",
    "# Accessing Elements by Index\n",
    "print(\"arr[0] =\", arr[0])\n",
    "print(\"arr[3] =\", arr[3])\n",
    "\n",
    "# Select elemens with indices 0, 2, 4, and 6\n",
    "arr[[0, 2, 4, 6]]"
   ]
  },
  {
   "cell_type": "code",
   "execution_count": null,
   "id": "c136c827",
   "metadata": {},
   "outputs": [],
   "source": []
  },
  {
   "cell_type": "markdown",
   "id": "cc70bda1",
   "metadata": {},
   "source": [
    "### Filtering Array Elements"
   ]
  },
  {
   "cell_type": "code",
   "execution_count": 4,
   "id": "630d6fae",
   "metadata": {},
   "outputs": [
    {
     "name": "stdout",
     "output_type": "stream",
     "text": [
      "Array: [10 12  1  7 22 14 11]\n",
      "[10  1  7]\n"
     ]
    }
   ],
   "source": [
    "import numpy as np\n",
    "\n",
    "# Array\n",
    "arr = np.array([10, 12, 1, 7, 22, 14, 11])\n",
    "print(\"Array:\", arr)\n",
    "\n",
    "# Array Filtering Principle\n",
    "arr[[True, False, False, True, False, False, True]]\n",
    "\n",
    "# Array Filtering Example: Filter elements less than or equal to 10\n",
    "arr1 = arr[arr <= 10]\n",
    "print(arr1)"
   ]
  },
  {
   "cell_type": "markdown",
   "id": "5d708832",
   "metadata": {},
   "source": [
    "## Exercise 2 (10-15 minutes):\n",
    "\n",
    "The international Group of Seven (G7) is an intergovermental political forum consisting of Canada, France,\n",
    "Germany, Italy, Japan, United Kingdom and the United States.\n",
    "\n",
    "a) Create a Numpy array consisting of G7 countries. Store countries in alphabetical order when creating the array. \n",
    "\n",
    "b) What index does Germany have? What index does United States have? Check your answer using the code!\n",
    "\n",
    "c) Apply multiple selection method, and select Canada, United Kingdom and United States\n",
    "\n",
    "d) Consider the following filter [True, True, False, False, False, False, False]. Apply the filter to g7 array, which countries are selected?\n",
    "\n",
    "e) Consider the following filter [False, True, True, True, False, True, False]. Apply the filter to g7 array, which countries are selected?"
   ]
  },
  {
   "cell_type": "markdown",
   "id": "deb76f41",
   "metadata": {},
   "source": [
    "## Solution to Exercise 2:\n",
    "\n",
    "\n"
   ]
  },
  {
   "cell_type": "code",
   "execution_count": null,
   "id": "af1f48eb",
   "metadata": {},
   "outputs": [],
   "source": []
  },
  {
   "cell_type": "markdown",
   "id": "3b5037e5",
   "metadata": {},
   "source": [
    "# 2. Basic Plots"
   ]
  },
  {
   "cell_type": "markdown",
   "id": "57b7e056",
   "metadata": {},
   "source": [
    "## 2.1 Line Chart and Scatter Plot"
   ]
  },
  {
   "cell_type": "code",
   "execution_count": 28,
   "id": "df8a09fe",
   "metadata": {},
   "outputs": [
    {
     "data": {
      "image/png": "[encoded data removed]",
      "text/plain": [
       "<Figure size 640x480 with 1 Axes>"
      ]
     },
     "metadata": {},
     "output_type": "display_data"
    }
   ],
   "source": [
    "import numpy as np\n",
    "import matplotlib.pyplot as plt\n",
    "\n",
    "x = np.linspace(-5, 5, 2)\n",
    "y = 2 * x - 7\n",
    "\n",
    "# Plot\n",
    "plt.plot(x, y)\n",
    "\n",
    "# Adding points to the plot\n",
    "plt.scatter(x, y, color=\"red\", s=25)\n",
    "\n",
    "# Add center point: To Do\n",
    "\n",
    "# Plot title\n",
    "plt.title(\"\\nLinear Function: y=2*x - 7\\n\")\n",
    "\n",
    "# Grid\n",
    "plt.grid()\n",
    "\n",
    "# Display plot\n",
    "plt.show()"
   ]
  },
  {
   "cell_type": "markdown",
   "id": "ac13963b",
   "metadata": {},
   "source": [
    "## Exercise 3 (5-7 minutes):\n",
    "\n",
    "Find the center point of the plotted line (xc, yc). Add the center point on the plot, use 'limegreen' color for the point, the size of center point should be equal to 50. \n",
    "\n",
    "Update the plot as required in the exercise."
   ]
  },
  {
   "cell_type": "markdown",
   "id": "24232333",
   "metadata": {},
   "source": [
    "## 2.2 Quadratic Function"
   ]
  },
  {
   "cell_type": "code",
   "execution_count": 31,
   "id": "57cb6630",
   "metadata": {},
   "outputs": [
    {
     "data": {
      "image/png": "[encoded data removed]",
      "text/plain": [
       "<Figure size 640x480 with 1 Axes>"
      ]
     },
     "metadata": {},
     "output_type": "display_data"
    }
   ],
   "source": [
    "import numpy as np\n",
    "\n",
    "x = np.linspace(-5, 5, 100)\n",
    "y = x*x - 2*x + 23\n",
    "\n",
    "# Plot\n",
    "plt.plot(x, y)\n",
    "\n",
    "# Plot title\n",
    "plt.title(\"\\nQuadratic Function: y=x*x - 5*x + 23\\n\")\n",
    "\n",
    "# Add minimum point: To Do\n",
    "\n",
    "# Grid\n",
    "plt.grid()\n",
    "\n",
    "# Display plot\n",
    "plt.show()"
   ]
  },
  {
   "cell_type": "markdown",
   "id": "6c5fca90",
   "metadata": {},
   "source": [
    "## Exercise 4:\n",
    "\n",
    "Find the minimum point on the plotted line (xmin, ymin). Add the minimum point on the plot, use 'red' color for the point, the size of minimum point should be equal to 50.\n",
    "\n",
    "Update the plot as required in the exercise."
   ]
  },
  {
   "cell_type": "markdown",
   "id": "b7a69193",
   "metadata": {},
   "source": [
    "## 2.3 What distribution np.random.random() relies upon?"
   ]
  },
  {
   "cell_type": "code",
   "execution_count": 11,
   "id": "4dbddc4b",
   "metadata": {},
   "outputs": [
    {
     "data": {
      "image/png": "[encoded data removed]",
      "text/plain": [
       "<Figure size 640x480 with 1 Axes>"
      ]
     },
     "metadata": {},
     "output_type": "display_data"
    },
    {
     "name": "stdout",
     "output_type": "stream",
     "text": [
      "Sample Mean: 0.48660677538821234\n",
      "Sample Standar Deviation: 0.286386521140828\n",
      "Sample Variance: 0.08201723949114595\n"
     ]
    }
   ],
   "source": [
    "import numpy as np\n",
    "\n",
    "random_points = np.random.random(1000)\n",
    "plt.hist(random_points, bins=10, density=False, edgecolor=\"white\")\n",
    "plt.title(\"\\nHistogram generated from np.random.random()\\n\")\n",
    "plt.show()\n",
    "\n",
    "# Sample Mean\n",
    "sample_mean = np.mean(random_points)\n",
    "print(\"Sample Mean:\", sample_mean)\n",
    "\n",
    "# Sample Standard Deviation\n",
    "sample_std = np.std(random_points)\n",
    "print(\"Sample Standar Deviation:\", sample_std)\n",
    "\n",
    "# Sample Variance\n",
    "sample_variance = np.var(random_points)\n",
    "print(\"Sample Variance:\", sample_variance)\n"
   ]
  },
  {
   "cell_type": "markdown",
   "id": "327ee992",
   "metadata": {},
   "source": [
    "**Answer:** np.random.random() takes values from uniform distribution on [0, 1]"
   ]
  },
  {
   "cell_type": "markdown",
   "id": "342a9b99",
   "metadata": {},
   "source": [
    "## 2.4. Standard Normal Distribution"
   ]
  },
  {
   "cell_type": "code",
   "execution_count": 12,
   "id": "74017fd1",
   "metadata": {},
   "outputs": [
    {
     "data": {
      "image/png": "[encoded data removed]",
      "text/plain": [
       "<Figure size 640x480 with 1 Axes>"
      ]
     },
     "metadata": {},
     "output_type": "display_data"
    }
   ],
   "source": [
    "import numpy as np\n",
    "\n",
    "# Statndard Normal Distribution Function\n",
    "\n",
    "def normal_df(x, mu=0, sigma=1): \n",
    "    return 1 / sigma / np.sqrt(2*np.pi) * np.exp(-1/2 * ((x - mu)/sigma)**2)\n",
    "\n",
    "vectorized_normal_df = np.vectorize(normal_df)\n",
    "\n",
    "x = np.linspace(-3.5, 3.5, 100)\n",
    "y = vectorized_normal_df(x)\n",
    "\n",
    "\n",
    "# Sample from Standard Norma Distribution\n",
    "stnorm_points = np.random.normal(loc=0, scale=1, size=1000)\n",
    "plt.hist(stnorm_points, bins=15, density=True, label=\"sample histogram\")\n",
    "plt.title(\"\\nStandard Normal Distribution Function \\nvs\\n Sample Histogram\\n\")\n",
    "\n",
    "# Add Standar Normal Distribution Density Function\n",
    "plt.plot(x, y, label=\"standard normal density\")\n",
    "\n",
    "# Add grid\n",
    "plt.grid()\n",
    "\n",
    "plt.legend()\n",
    "\n",
    "# Display Plot\n",
    "plt.show() "
   ]
  },
  {
   "cell_type": "markdown",
   "id": "025e5f7f",
   "metadata": {},
   "source": [
    "## Question: What the plot shows?"
   ]
  },
  {
   "cell_type": "markdown",
   "id": "ddf70759",
   "metadata": {},
   "source": [
    "## Exercise 5 (Home Work): \n",
    "\n",
    "\n",
    "In the example above with standard normal distribution function we plotted sample histogram versus\n",
    "standard normal distribution function.\n",
    "\n",
    "Your task are\n",
    "\n",
    "a) Generate points coming from normal distribution with mu=20 and sigma=5\n",
    "\n",
    "b) Plot a histogram\n",
    "\n",
    "c) Write a function to calculate N(mu=20, sigma=5) density function\n",
    "\n",
    "d) Plot histogram and density function together on the same plot.\n"
   ]
  },
  {
   "cell_type": "markdown",
   "id": "1dcb929d",
   "metadata": {},
   "source": [
    "## 3. Matrices (Self Study)\n",
    "\n",
    "Matrix is also an array. It is a two dimensional array"
   ]
  },
  {
   "cell_type": "code",
   "execution_count": 101,
   "id": "2af206d5",
   "metadata": {},
   "outputs": [
    {
     "name": "stdout",
     "output_type": "stream",
     "text": [
      "Matrix:\n",
      " [[ 1  2  3]\n",
      " [ 4  5  6]\n",
      " [ 7  8  9]\n",
      " [10 11 12]]\n",
      "\n",
      "Matrix Dimension: 2\n",
      "Number of rows: 4\n",
      "Number of columns: 3\n"
     ]
    }
   ],
   "source": [
    "import numpy as np\n",
    "\n",
    "# Creating a matrix\n",
    "mtx = np.array([\n",
    "    [1, 2, 3],\n",
    "    [4, 5, 6],\n",
    "    [7, 8, 9],\n",
    "    [10, 11, 12]\n",
    "])\n",
    "\n",
    "print(\"Matrix:\\n\", mtx)\n",
    "print()\n",
    "\n",
    "\n",
    "# Matrix Dimensions\n",
    "\n",
    "print(\"Matrix Dimension:\", np.ndim(mtx))\n",
    "\n",
    "\n",
    "# Size of Matrix\n",
    "nrows, ncols = np.shape(mtx)\n",
    "print(\"Number of rows:\", nrows)\n",
    "print(\"Number of columns:\", ncols)\n",
    "\n"
   ]
  },
  {
   "cell_type": "markdown",
   "id": "df87d073",
   "metadata": {},
   "source": [
    "## 3.1 Accessing Matrix Elements"
   ]
  },
  {
   "cell_type": "code",
   "execution_count": 102,
   "id": "bb606384",
   "metadata": {},
   "outputs": [
    {
     "name": "stdout",
     "output_type": "stream",
     "text": [
      "\n",
      "Accessing Rows\n",
      "\n",
      "row 0 [1 2 3]\n",
      "row 1: [4 5 6]\n",
      "row 2: [7 8 9]\n",
      "row 3: [10 11 12]\n",
      "\n",
      "Accessing Columns\n",
      "\n",
      "column 0: [ 1  4  7 10]\n",
      "column 1: [ 2  5  8 11]\n",
      "col 2: [ 3  6  9 12]\n",
      "\n",
      "Accessing Elements:\n",
      "\n",
      "m11 = 1\n",
      "m11 = 1\n",
      "m22 = 5\n",
      "m22 = 5\n",
      "m33 = 9\n",
      "m33 = 9\n"
     ]
    }
   ],
   "source": [
    "import numpy as np\n",
    "\n",
    "# Create Matrix\n",
    "\n",
    "mtx = np.array([\n",
    "    [1, 2, 3],\n",
    "    [4, 5, 6],\n",
    "    [7, 8, 9],\n",
    "    [10, 11, 12]\n",
    "])\n",
    "\n",
    "# Accessing Elements of a Matrix\n",
    "\n",
    "print(\"\\nAccessing Rows\\n\")\n",
    "print(\"row 0\", mtx[0])\n",
    "print(\"row 1:\", mtx[1])\n",
    "print(\"row 2:\", mtx[2])\n",
    "print(\"row 3:\", mtx[3])\n",
    "\n",
    "print(\"\\nAccessing Columns\\n\")\n",
    "print(\"column 0:\", mtx[:,0])\n",
    "print(\"column 1:\", mtx[:,1])\n",
    "print(\"col 2:\", mtx[:,2])\n",
    "\n",
    "\n",
    "print(\"\\nAccessing Elements:\\n\")\n",
    "print(\"m11 =\", mtx[0][0])\n",
    "print(\"m11 =\", mtx[0, 0])\n",
    "print(\"m22 =\", mtx[1][1])\n",
    "print(\"m22 =\", mtx[1][1])\n",
    "print(\"m33 =\", mtx[2][2])\n",
    "print(\"m33 =\", mtx[2][2])"
   ]
  },
  {
   "cell_type": "markdown",
   "id": "793af8f7",
   "metadata": {},
   "source": [
    "## 3.2 Matrix Creation Methods"
   ]
  },
  {
   "cell_type": "code",
   "execution_count": 91,
   "id": "53be98e1",
   "metadata": {},
   "outputs": [
    {
     "name": "stdout",
     "output_type": "stream",
     "text": [
      "Regular Matrix:\n",
      " [[ 1  2  3  4  5]\n",
      " [ 6  7  8  9 10]\n",
      " [11 12 13 14 15]\n",
      " [16 17 18 19 20]\n",
      " [21 22 23 24 25]] \n",
      "\n",
      "Identity Matrix:\n",
      " [[1. 0. 0. 0. 0.]\n",
      " [0. 1. 0. 0. 0.]\n",
      " [0. 0. 1. 0. 0.]\n",
      " [0. 0. 0. 1. 0.]\n",
      " [0. 0. 0. 0. 1.]] \n",
      "\n",
      "Zero Matrix:\n",
      " [[0. 0. 0.]\n",
      " [0. 0. 0.]\n",
      " [0. 0. 0.]\n",
      " [0. 0. 0.]] \n",
      "\n",
      "Matrix of 1s:\n",
      " [[1. 1. 1.]\n",
      " [1. 1. 1.]\n",
      " [1. 1. 1.]\n",
      " [1. 1. 1.]] \n",
      "\n",
      "Diagonal Matrix:\n",
      " [[1 0 0 0 0]\n",
      " [0 2 0 0 0]\n",
      " [0 0 3 0 0]\n",
      " [0 0 0 4 0]\n",
      " [0 0 0 0 5]] \n",
      "\n",
      "Regular Matrix Diagonal: [ 1  7 13 19 25] \n",
      "\n",
      "Identity Matrix Diagonal: [[1. 0. 0. 0. 0.]\n",
      " [0. 1. 0. 0. 0.]\n",
      " [0. 0. 1. 0. 0.]\n",
      " [0. 0. 0. 1. 0.]\n",
      " [0. 0. 0. 0. 1.]] \n",
      "\n",
      "Diagonal Matrix Diagonal: [[1 0 0 0 0]\n",
      " [0 2 0 0 0]\n",
      " [0 0 3 0 0]\n",
      " [0 0 0 4 0]\n",
      " [0 0 0 0 5]] \n",
      "\n"
     ]
    }
   ],
   "source": [
    "import numpy as np\n",
    "\n",
    "# Creating Matrix from Range Elements\n",
    "\n",
    "mreg = np.arange(1, 26).reshape(5, 5)\n",
    "print(\"Regular Matrix:\\n\", mreg, \"\\n\")\n",
    "\n",
    "# Identity Matrix\n",
    "\n",
    "mid = np.identity(5)\n",
    "print(\"Identity Matrix:\\n\", idm, \"\\n\")\n",
    "\n",
    "# Matrix of Zeros\n",
    "mzero = np.zeros((4, 3))\n",
    "print(\"Zero Matrix:\\n\", mzero, \"\\n\")\n",
    "\n",
    "# Matrix of Ones\n",
    "mones = np.ones((4, 3))\n",
    "print(\"Matrix of 1s:\\n\", mones, \"\\n\")\n",
    "\n",
    "# Diagonal Matrix\n",
    "mdiag = np.diag([1, 2, 3, 4, 5])\n",
    "print(\"Diagonal Matrix:\\n\", mdiag, \"\\n\")\n",
    "\n",
    "# Getting Elements on Matrix Diagonal\n",
    "regular_matrix_diagonal = np.diag(mreg)\n",
    "print(\"Regular Matrix Diagonal:\", regular_matrix_diagonal, \"\\n\")\n",
    "print(\"Identity Matrix Diagonal:\", mid, \"\\n\")\n",
    "print(\"Diagonal Matrix Diagonal:\", mdiag, \"\\n\")"
   ]
  },
  {
   "cell_type": "code",
   "execution_count": null,
   "id": "acdc0cc4",
   "metadata": {},
   "outputs": [],
   "source": []
  }
 ],
 "metadata": {
  "kernelspec": {
   "display_name": "Python 3 (ipykernel)",
   "language": "python",
   "name": "python3"
  },
  "language_info": {
   "codemirror_mode": {
    "name": "ipython",
    "version": 3
   },
   "file_extension": ".py",
   "mimetype": "text/x-python",
   "name": "python",
   "nbconvert_exporter": "python",
   "pygments_lexer": "ipython3",
   "version": "3.10.9"
  }
 },
 "nbformat": 4,
 "nbformat_minor": 5
}
