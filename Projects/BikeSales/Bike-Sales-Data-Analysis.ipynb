{
 "cells": [
  {
   "cell_type": "markdown",
   "id": "2af5229c",
   "metadata": {},
   "source": [
    "<h1 style=\"margin-top:25px;margin-bottom: 25px;font-size:3rem;color:#47bb02;text-align:center;\">\n",
    "    Exploratory Data Analysis\n",
    "</h1>\n",
    "\n",
    "<h2 style=\"margin-bottom: 25px;font-size:2.5rem;text-align:center;color:darkblue;\">\n",
    "    Bike Sales Data</h2>\n",
    "\n",
    "\n",
    "<img src=\"https://raw.githubusercontent.com/lajmcourses/Images/master/cyclist.jpg\"\n",
    "     style=\"position:absolute;top:5px;left:25px;height:150px;width:auto;margin-bottom:25px;\">\n",
    "   "
   ]
  },
  {
   "cell_type": "markdown",
   "id": "164d728c",
   "metadata": {},
   "source": [
    "**Analysis dataset:** bike_sales.csv"
   ]
  },
  {
   "cell_type": "markdown",
   "id": "0f94ba80",
   "metadata": {},
   "source": [
    "## Assignment\n",
    "\n",
    "1. First of all we need to understand the data and its content, and the first task is \n",
    "\n",
    "    (a) Briefly describe the dataset\n",
    "\n",
    "    (b) Describe each variable included into the dataset, describe variable's measuring/presentation units.\n",
    "\n",
    "    (c) Call the solution section \"Bike Sales Dataset Specification\"\n",
    "    \n",
    "    \n",
    "2. Read the dataset from the csv file and \n",
    "    \n",
    "    (a) Display first 5 rows of the dataset\n",
    "    \n",
    "    (b) How many rows the dataset has? How many columns the dataset has?\n",
    "    \n",
    "    (c) Print out the datatype of each column. Do we need to correct the data types before analyzing the data?\n",
    "    \n",
    "    (d) Display descriptive statistics of numerical variables\n",
    "    \n",
    "    (e) Display descriptive statistics of non-numerical variables\n",
    "    \n",
    "    \n",
    "3. Data question:\n",
    "\n",
    "    (a) What time period the dataset covers?\n",
    "    \n",
    "    (b) How many age age groups are in the dataset? What are they?\n",
    "    \n",
    "    (c) From what countries customers are coming from? What are those countries?\n",
    "    \n",
    "    (d) How many product categories the dataset includes? What are those categories?\n",
    "    \n",
    "    \n",
    "4. Is there any missing data in the bike sales dataset? If yes, then what is it? How it can be fixed? \n",
    "\n",
    "\n",
    "5. Sales costs, profit, and revenue:\n",
    "\n",
    "    - Create plot showing annual costs, profit, and revenue.\n",
    "    \n",
    "    - Create plot showing monthly costs, profit, and revenue.\n",
    "\n",
    "\n",
    "6. Customers by Age Group\n",
    "    \n",
    "    - Create plot showing bike store customers by age group by year.\n",
    "   \n",
    "    - Create plot showing sales costs, profit, and revenue by year by age group.\n",
    "\n",
    "\n",
    "7. Customers by Gender\n",
    "    \n",
    "    - Create plot showing number of customers by gender by year.\n",
    "    \n",
    "    - Create plot showing sales costs, profit, and revenue by year and by gender. \n",
    "    \n",
    "\n",
    "8. Customers by Country\n",
    "    \n",
    "    - Create plot showing number of customers by country and year.\n",
    "    \n",
    "    - Create plot showing sales costs, profit, and revenue by coutnry and year.\n",
    "\n"
   ]
  },
  {
   "cell_type": "code",
   "execution_count": null,
   "id": "a861e2f8",
   "metadata": {},
   "outputs": [],
   "source": []
  }
 ],
 "metadata": {
  "kernelspec": {
   "display_name": "Python 3 (ipykernel)",
   "language": "python",
   "name": "python3"
  },
  "language_info": {
   "codemirror_mode": {
    "name": "ipython",
    "version": 3
   },
   "file_extension": ".py",
   "mimetype": "text/x-python",
   "name": "python",
   "nbconvert_exporter": "python",
   "pygments_lexer": "ipython3",
   "version": "3.10.9"
  }
 },
 "nbformat": 4,
 "nbformat_minor": 5
}
